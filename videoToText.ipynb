{
 "cells": [
  {
   "cell_type": "markdown",
   "id": "8ca56483-6e74-4d61-ad7f-77e9201c1b68",
   "metadata": {},
   "source": [
    "## 0. Install and Import Dependencies"
   ]
  },
  {
   "cell_type": "code",
   "execution_count": null,
   "id": "086c5c1f-468d-42d0-bba4-ef1604f7775a",
   "metadata": {
    "tags": []
   },
   "outputs": [],
   "source": [
    "!pip install ibm_watson"
   ]
  },
  {
   "cell_type": "code",
   "execution_count": null,
   "id": "ff53bd9e",
   "metadata": {
    "tags": []
   },
   "outputs": [],
   "source": [
    "exist = !which ffmpeg\n",
    "if not exist:\n",
    "  !curl https://johnvansickle.com/ffmpeg/releases/ffmpeg-release-amd64-static.tar.xz -o ffmpeg.tar.xz \\\n",
    "     && tar -xf ffmpeg.tar.xz && rm ffmpeg.tar.xz\n",
    "  ffmdir = !find . -iname ffmpeg-*-static\n",
    "  path = %env PATH\n",
    "  path = path + ':' + ffmdir[0]\n",
    "  %env PATH $path\n",
    "print('')\n",
    "if exist:\n",
    "\tprint('Done!')"
   ]
  },
  {
   "cell_type": "code",
   "execution_count": null,
   "id": "1f659d2d-0cf0-4c07-b09e-d7951c3918a2",
   "metadata": {
    "tags": []
   },
   "outputs": [],
   "source": [
    "import subprocess\n",
    "from ibm_watson import SpeechToTextV1\n",
    "from ibm_watson.websocket import RecognizeCallback, AudioSource\n",
    "from ibm_cloud_sdk_core.authenticators import IAMAuthenticator"
   ]
  },
  {
   "cell_type": "markdown",
   "id": "779e7b10",
   "metadata": {},
   "source": [
    "\n",
    "# 1. Extract Audio"
   ]
  },
  {
   "cell_type": "code",
   "execution_count": null,
   "id": "bc9dd0a0",
   "metadata": {
    "tags": []
   },
   "outputs": [],
   "source": [
    "command = 'ffmpeg -i content/video/a.mp4 -ab 160k -ar 44100 -vn content/audio/audio.wav'\n",
    "subprocess.call(command, shell=True)"
   ]
  },
  {
   "cell_type": "markdown",
   "id": "5aeab6eb-7efa-4a3f-b592-481d207cfc87",
   "metadata": {},
   "source": [
    "# 2. Setup STT Service"
   ]
  },
  {
   "cell_type": "code",
   "execution_count": null,
   "id": "1300200f-9b29-44cd-bf73-83885db03e07",
   "metadata": {},
   "outputs": [],
   "source": [
    "apikey = '4IwdLMj6aBGv_lK9yPnMz8gHBvWOMnF0xzt4xZF_V_2i'\n",
    "url = 'https://api.au-syd.speech-to-text.watson.cloud.ibm.com/instances/d1585919-bd55-424e-975e-3e75a3ac56b5'"
   ]
  },
  {
   "cell_type": "code",
   "execution_count": null,
   "id": "942e1cfe-9cfb-420f-b17d-42e090695312",
   "metadata": {},
   "outputs": [],
   "source": [
    "# Setup service\n",
    "authenticator = IAMAuthenticator(apikey)\n",
    "stt = SpeechToTextV1(authenticator=authenticator)\n",
    "stt.set_service_url(url)"
   ]
  },
  {
   "cell_type": "markdown",
   "id": "601cedfb-9b42-4ca7-a082-527c36921ab1",
   "metadata": {
    "tags": []
   },
   "source": [
    "## 3. Open Audio Source and Convert"
   ]
  },
  {
   "cell_type": "code",
   "execution_count": null,
   "id": "95f85e9b-7b90-4d21-8de9-3b6d67614982",
   "metadata": {},
   "outputs": [],
   "source": [
    "with open('content/audio/audio.wav', 'rb') as f:\n",
    "    res = stt.recognize(audio=f, content_type='audio/wav', model='en-AU_NarrowbandModel').get_result()"
   ]
  },
  {
   "cell_type": "code",
   "execution_count": null,
   "id": "024ac0ce-65a3-4398-bc07-f0d1a6349a58",
   "metadata": {},
   "outputs": [],
   "source": [
    "res"
   ]
  },
  {
   "cell_type": "markdown",
   "id": "4459cfa1-39ab-4018-aa00-e396cb465d83",
   "metadata": {},
   "source": [
    "# 4. Process Results and Output to Text"
   ]
  },
  {
   "cell_type": "code",
   "execution_count": null,
   "id": "c984d688-dcb3-4a2d-bd85-92acce72581a",
   "metadata": {},
   "outputs": [],
   "source": [
    "len(res['results'])"
   ]
  },
  {
   "cell_type": "code",
   "execution_count": null,
   "id": "64e64aa3-43d0-40a7-8c31-89672a39f8f3",
   "metadata": {},
   "outputs": [],
   "source": [
    "text = [result['alternatives'][0]['transcript'].rstrip() + '.\\n' for result in res['results']]"
   ]
  },
  {
   "cell_type": "code",
   "execution_count": null,
   "id": "1441ad52-2ea0-4a53-8217-faccf31a1100",
   "metadata": {},
   "outputs": [],
   "source": [
    "text = [para[0].title() + para[1:] for para in text]\n",
    "transcript = ''.join(text)\n",
    "with open('output.txt', 'w') as out:\n",
    "    out.writelines(transcript)"
   ]
  },
  {
   "cell_type": "code",
   "execution_count": null,
   "id": "3523e8d7-5a71-4972-9a8b-84bd0224b690",
   "metadata": {},
   "outputs": [],
   "source": [
    "transcript"
   ]
  }
 ],
 "metadata": {
  "kernelspec": {
   "display_name": "imageclass",
   "language": "python",
   "name": "imageclass"
  },
  "language_info": {
   "codemirror_mode": {
    "name": "ipython",
    "version": 3
   },
   "file_extension": ".py",
   "mimetype": "text/x-python",
   "name": "python",
   "nbconvert_exporter": "python",
   "pygments_lexer": "ipython3",
   "version": "3.9.18"
  }
 },
 "nbformat": 4,
 "nbformat_minor": 5
}
