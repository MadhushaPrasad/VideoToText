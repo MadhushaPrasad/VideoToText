{
 "cells": [
  {
   "cell_type": "markdown",
   "id": "8ca56483-6e74-4d61-ad7f-77e9201c1b68",
   "metadata": {},
   "source": [
    "## 0. Install and Import Dependencies"
   ]
  },
  {
   "cell_type": "code",
   "execution_count": null,
   "id": "086c5c1f-468d-42d0-bba4-ef1604f7775a",
   "metadata": {
    "tags": []
   },
   "outputs": [],
   "source": [
    "!pip install ibm_watson"
   ]
  },
  {
   "cell_type": "code",
   "execution_count": null,
   "id": "ff53bd9e",
   "metadata": {
    "tags": []
   },
   "outputs": [],
   "source": [
    "exist = !which ffmpeg\n",
    "if not exist:\n",
    "  !curl https://johnvansickle.com/ffmpeg/releases/ffmpeg-release-amd64-static.tar.xz -o ffmpeg.tar.xz \\\n",
    "     && tar -xf ffmpeg.tar.xz && rm ffmpeg.tar.xz\n",
    "  ffmdir = !find . -iname ffmpeg-*-static\n",
    "  path = %env PATH\n",
    "  path = path + ':' + ffmdir[0]\n",
    "  %env PATH $path\n",
    "print('')\n",
    "if exist:\n",
    "\tprint('Done!')"
   ]
  },
  {
   "cell_type": "code",
   "execution_count": null,
   "id": "1f659d2d-0cf0-4c07-b09e-d7951c3918a2",
   "metadata": {
    "tags": []
   },
   "outputs": [],
   "source": [
    "import subprocess\n",
    "from ibm_watson import SpeechToTextV1\n",
    "from ibm_watson.websocket import RecognizeCallback, AudioSource\n",
    "from ibm_cloud_sdk_core.authenticators import IAMAuthenticator\n",
    "import time"
   ]
  },
  {
   "cell_type": "markdown",
   "id": "779e7b10",
   "metadata": {},
   "source": [
    "\n",
    "# 1. Extract Audio"
   ]
  },
  {
   "cell_type": "code",
   "execution_count": null,
   "id": "bc9dd0a0",
   "metadata": {
    "tags": []
   },
   "outputs": [],
   "source": [
    "command = 'ffmpeg -i content/video/a.mp4 -ab 160k -ar 44100 -vn content/audio/audio.wav'\n",
    "time.spleep(5)\n",
    "subprocess.call(command, shell=True)"
   ]
  },
  {
   "cell_type": "markdown",
   "id": "5aeab6eb-7efa-4a3f-b592-481d207cfc87",
   "metadata": {},
   "source": [
    "# 2. Setup STT Service"
   ]
  },
  {
   "cell_type": "code",
   "execution_count": null,
   "id": "1300200f-9b29-44cd-bf73-83885db03e07",
   "metadata": {},
   "outputs": [],
   "source": [
    "apikey = '4IwdLMj6aBGv_lK9yPnMz8gHBvWOMnF0xzt4xZF_V_2i'\n",
    "url = 'https://api.au-syd.speech-to-text.watson.cloud.ibm.com/instances/d1585919-bd55-424e-975e-3e75a3ac56b5'"
   ]
  },
  {
   "cell_type": "code",
   "execution_count": null,
   "id": "942e1cfe-9cfb-420f-b17d-42e090695312",
   "metadata": {},
   "outputs": [],
   "source": [
    "# Setup service\n",
    "authenticator = IAMAuthenticator(apikey)\n",
    "stt = SpeechToTextV1(authenticator=authenticator)\n",
    "stt.set_service_url(url)"
   ]
  },
  {
   "cell_type": "markdown",
   "id": "601cedfb-9b42-4ca7-a082-527c36921ab1",
   "metadata": {
    "tags": []
   },
   "source": [
    "## 3. Open Audio Source and Convert"
   ]
  },
  {
   "cell_type": "code",
   "execution_count": null,
   "id": "95f85e9b-7b90-4d21-8de9-3b6d67614982",
   "metadata": {},
   "outputs": [],
   "source": [
    "with open('content/audio/audio.wav', 'rb') as f:\n",
    "    res = stt.recognize(audio=f, content_type='audio/wav', model='en-AU_NarrowbandModel', continuous=True).get_result()"
   ]
  },
  {
   "cell_type": "code",
   "execution_count": null,
   "id": "024ac0ce-65a3-4398-bc07-f0d1a6349a58",
   "metadata": {},
   "outputs": [],
   "source": []
  }
 ],
 "metadata": {
  "kernelspec": {
   "display_name": "imageclass",
   "language": "python",
   "name": "imageclass"
  },
  "language_info": {
   "codemirror_mode": {
    "name": "ipython",
    "version": 3
   },
   "file_extension": ".py",
   "mimetype": "text/x-python",
   "name": "python",
   "nbconvert_exporter": "python",
   "pygments_lexer": "ipython3",
   "version": "3.9.18"
  }
 },
 "nbformat": 4,
 "nbformat_minor": 5
}
